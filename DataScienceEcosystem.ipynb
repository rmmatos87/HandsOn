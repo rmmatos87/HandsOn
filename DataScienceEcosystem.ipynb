{
 "cells": [
  {
   "cell_type": "code",
   "execution_count": 1,
   "id": "bc3e92da-f893-4bcb-a230-beb5ff75346c",
   "metadata": {},
   "outputs": [],
   "source": [
    "# Exercise 1: Create a Jupyter Notebook"
   ]
  },
  {
   "cell_type": "code",
   "execution_count": 2,
   "id": "c70cfc9c-61f3-485f-b3ce-3b07b5a261e1",
   "metadata": {},
   "outputs": [],
   "source": [
    "# Exercise 2 - Create a markdown cell with the title of the notebook. (1 pt)"
   ]
  },
  {
   "cell_type": "markdown",
   "id": "270b4d8e-d9d1-400b-8442-bd69b4ed3d0e",
   "metadata": {},
   "source": [
    "# Data Science Tools and Ecosystem"
   ]
  },
  {
   "cell_type": "code",
   "execution_count": 3,
   "id": "86d7f050-bb06-4701-ae1e-3b59c2a0a7e9",
   "metadata": {},
   "outputs": [],
   "source": [
    "# Exercise 3 - Create a markdown cell for an introduction. (1 pt)"
   ]
  },
  {
   "cell_type": "markdown",
   "id": "30e6b30e-bf63-4510-95fb-1cb4cd775eaa",
   "metadata": {},
   "source": [
    "In this notebook, Data Science Tools and Ecosystem are summarized."
   ]
  },
  {
   "cell_type": "code",
   "execution_count": 4,
   "id": "1a986a5b-ea5e-4091-a970-f5870e94c0ae",
   "metadata": {},
   "outputs": [],
   "source": [
    "# Exercise 10 -Insert a markdown cell to list Objectives. (3 pts)"
   ]
  },
  {
   "cell_type": "markdown",
   "id": "0dc101f5-7135-4c5f-9fc0-7dcda6509958",
   "metadata": {},
   "source": [
    "**Objectives:**\n",
    "* learn how to write Markdown\n",
    "* List popular languages for Data Science\n",
    "* List popular libraries for Data Science\n",
    "* List popular tools for Data Science"
   ]
  },
  {
   "cell_type": "code",
   "execution_count": 5,
   "id": "86515b3e-1429-4553-b239-6fa956ecd979",
   "metadata": {},
   "outputs": [],
   "source": [
    "# Exercise 4 - Create a markdown cell to list data science languages. (3 pts)"
   ]
  },
  {
   "cell_type": "markdown",
   "id": "ee24a260-d664-4cb7-a770-239294bfa33c",
   "metadata": {},
   "source": [
    "Some of the popular languages that Data Scientists use are:\n",
    "1. python\n",
    "2. R\n",
    "3. SQL\n",
    "4. Julia"
   ]
  },
  {
   "cell_type": "code",
   "execution_count": 6,
   "id": "2585cdb0-966d-475e-a608-847815c29762",
   "metadata": {},
   "outputs": [],
   "source": [
    "# Exercise 5 - Create a markdown cell to list data science libraries. (3 pts)"
   ]
  },
  {
   "cell_type": "markdown",
   "id": "8077f5e6-5d08-4fe6-a7f0-f33ca2ea8c79",
   "metadata": {},
   "source": [
    "Some of the commonly used libraries used by Data Scientists include:\n",
    "1. NumPy\n",
    "2. Pandas\n",
    "3. Scikit-learn\n",
    "4. TensorFlow\n",
    "5. PyTorch\n",
    "6. Keras"
   ]
  },
  {
   "cell_type": "code",
   "execution_count": 7,
   "id": "943e3b2e-b7d2-4044-9ecc-b7371ee8ee8b",
   "metadata": {},
   "outputs": [],
   "source": [
    "# Exercise 6 - Create a markdown cell with a table of Data Science tools. (3 pts)"
   ]
  },
  {
   "cell_type": "markdown",
   "id": "f03c5670-ce54-408a-a8d2-b5a846bc2a7d",
   "metadata": {},
   "source": [
    "|Data Science Tools|\n",
    "|-|\n",
    "|Python|\n",
    "|R|\n",
    "|SQL|\n",
    "|Tableau|\n",
    "|Apache Hadoop|\n",
    "|Apache Spark|"
   ]
  },
  {
   "cell_type": "code",
   "execution_count": 8,
   "id": "a74f8ffb-a7fb-48a6-9417-4f62ef4de2e2",
   "metadata": {},
   "outputs": [],
   "source": [
    "# Exercise 7 - Create a markdown cell introducing arithmetic expression examples. (1 pt)"
   ]
  },
  {
   "cell_type": "markdown",
   "id": "b6dfa3cd-ed9e-46f9-8e69-6afd54aa4e3a",
   "metadata": {},
   "source": [
    "### Below are a few examples of evaluating arithmetic expressions in Python\n",
    "* Addition: 2 + 3\n",
    "* Subtraction: 5 - 2\n",
    "* Multiplication: 4 * 6\n",
    "* Division: 10 / 2\n",
    "* Exponentiation: 2 ** 4 (2 raised to the power of 4)\n",
    "* Modulo: 10 % 3 (remainder when 10 is divided by 3)"
   ]
  },
  {
   "cell_type": "code",
   "execution_count": 9,
   "id": "fbdf14a9-9b14-4f8d-9996-21382764352c",
   "metadata": {},
   "outputs": [],
   "source": [
    "# Exercise 8 - Create a code cell to multiply and add numbers. (2 pts)"
   ]
  },
  {
   "cell_type": "code",
   "execution_count": 10,
   "id": "88f7ee5c-7860-4966-8e7a-df316a43ea6e",
   "metadata": {},
   "outputs": [
    {
     "data": {
      "text/plain": [
       "17"
      ]
     },
     "execution_count": 10,
     "metadata": {},
     "output_type": "execute_result"
    }
   ],
   "source": [
    "# This a simple arithmetic expression to mutiply then add integers\n",
    "3 * 4 + 5"
   ]
  },
  {
   "cell_type": "code",
   "execution_count": 11,
   "id": "dee42ca1-0c98-4897-8fb1-adbcca388cba",
   "metadata": {},
   "outputs": [],
   "source": [
    "# Exercise 9 - Create a code cell to convert minutes to hours. (2 pts)"
   ]
  },
  {
   "cell_type": "code",
   "execution_count": 12,
   "id": "67d44ba7-8b54-4f06-8e66-b9ea52e7ed2a",
   "metadata": {},
   "outputs": [
    {
     "data": {
      "text/plain": [
       "3.3333333333333335"
      ]
     },
     "execution_count": 12,
     "metadata": {},
     "output_type": "execute_result"
    }
   ],
   "source": [
    "# This will convert 200 minutes to hours by diving by 60.\n",
    "200 / 60"
   ]
  },
  {
   "cell_type": "code",
   "execution_count": 13,
   "id": "8a9d36e3-b6a9-4832-8f85-08edf477ffd8",
   "metadata": {},
   "outputs": [],
   "source": [
    "# Exercise 11 - Create a markdown cell to indicate the Author’s name. (2 pts)"
   ]
  },
  {
   "cell_type": "markdown",
   "id": "50d36223-4c31-4db5-92c0-ed0dc730f5b5",
   "metadata": {},
   "source": [
    "## Author\n",
    "Rafael"
   ]
  },
  {
   "cell_type": "code",
   "execution_count": 14,
   "id": "62052085-5d2a-403c-b1ea-0fc29fac3cc4",
   "metadata": {},
   "outputs": [],
   "source": [
    "# Exercise 12 - Share your notebook through GitHub (3 pts)"
   ]
  },
  {
   "cell_type": "code",
   "execution_count": 15,
   "id": "7495a719-30ae-4cf1-84d1-c8223987d888",
   "metadata": {},
   "outputs": [],
   "source": [
    "# Exercise 13 - Take a screenshot of the first page of the notebook. (1 pt)"
   ]
  }
 ],
 "metadata": {
  "kernelspec": {
   "display_name": "Python 3 (ipykernel)",
   "language": "python",
   "name": "python3"
  },
  "language_info": {
   "codemirror_mode": {
    "name": "ipython",
    "version": 3
   },
   "file_extension": ".py",
   "mimetype": "text/x-python",
   "name": "python",
   "nbconvert_exporter": "python",
   "pygments_lexer": "ipython3",
   "version": "3.11.7"
  }
 },
 "nbformat": 4,
 "nbformat_minor": 5
}
